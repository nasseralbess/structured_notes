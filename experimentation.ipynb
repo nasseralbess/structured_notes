{
 "cells": [
  {
   "cell_type": "code",
   "execution_count": 4,
   "metadata": {},
   "outputs": [],
   "source": [
    "import openai\n",
    "from openai import OpenAI\n",
    "from dotenv import load_dotenv\n",
    "import os\n",
    "load_dotenv()\n",
    "openai.api_key = os.getenv(\"OPENAI_API_KEY\")\n",
    "client = openai.OpenAI()\n",
    "\n"
   ]
  },
  {
   "cell_type": "code",
   "execution_count": 14,
   "metadata": {},
   "outputs": [],
   "source": [
    "client = OpenAI()\n",
    "\n",
    "audio_file= open(\"slave.mp3\", \"rb\")\n",
    "transcription = client.audio.transcriptions.create(\n",
    "  model=\"whisper-1\", \n",
    "  file=audio_file,\n",
    "  language=\"en\"\n",
    ")\n"
   ]
  },
  {
   "cell_type": "code",
   "execution_count": 16,
   "metadata": {},
   "outputs": [],
   "source": [
    "prompt = f\"Given the below lecture transcript, write thorough structured notes that incorporate every important concepts that is mentioned. You can add information from your knowledge to fill the gaps. Provide your output in markdown, and use all necessary structures like headers, lists, tables, bullet points, equations, etc. \\nHere's the transcript: {transcription}\""
   ]
  },
  {
   "cell_type": "code",
   "execution_count": 22,
   "metadata": {},
   "outputs": [
    {
     "name": "stdout",
     "output_type": "stream",
     "text": [
      "# Lecture Notes on Multilingual Understanding & Mathematical Concepts\n",
      "\n",
      "## Introduction\n",
      "The lecture explores the importance of understanding multiple languages in an educational context, especially in lectures that incorporate different languages. Additionally, it touches upon a mathematical concept using trigonometric functions.\n",
      "\n",
      "---\n",
      "\n",
      "## Key Concepts\n",
      "\n",
      "### 1. Multilingual Understanding in Education\n",
      "- **Importance of Bilingual Proficiency**:\n",
      "  - Understanding both English and Arabic (or any other combination of languages) is essential in diverse educational settings.\n",
      "  - The ability to comprehend lectures given in multiple languages enhances learning and engagement.\n",
      "\n",
      "- **Common Practices**:\n",
      "  - Many academic environments feature lectures that may mix languages.\n",
      "  - Professors may deliver content in one language while using terms or examples in another to accommodate different student backgrounds.\n",
      "\n",
      "### 2. Mathematical Concepts\n",
      "- **Trigonometric Functions**:\n",
      "  - The function cited in the lecture: \n",
      "    \\[\n",
      "    \\sin(x) \\neq \\cos(x)\n",
      "    \\]\n",
      "  - This equation sets the premise for a broader discussion on equality and mathematical reasoning.\n",
      "\n",
      "- **Cubic and Square Relationships**:\n",
      "  - The statement concerning \\(x^2\\) and \\(x^3\\):\n",
      "    - **Key Observations**:\n",
      "      - \\(x^2\\) (square of x) does not equate to \\(x^3\\) (cube of x) for all values of \\(x\\).\n",
      "      - This highlights different properties of exponents in mathematics.\n",
      "\n",
      "### 3. The Nature of Mathematical Proofs\n",
      "- **Understanding Equalities**:\n",
      "  - Exploring why certain functions or equations may not hold true.\n",
      "  - Emphasizes logical reasoning in mathematics:\n",
      "    - Example: If \\(x\\) is squared, then it cannot equal the cube unless specific conditions (like \\(x=0\\) or \\(x=1\\)) are met.\n",
      "\n",
      "---\n",
      "\n",
      "## Illustrative Tables\n",
      "\n",
      "| Function      | Form         | Equality Condition     |\n",
      "|---------------|--------------|------------------------|\n",
      "| \\( \\sin(x) \\) | Trigonometric | \\(\\sin(x) = \\cos(x)\\) unless at specific angles like \\( \\frac{\\pi}{4} \\) |\n",
      "| \\( x^2 \\)     | Polynomial   | \\( x^2 = x^3 \\) only if \\( x = 0 \\) or \\( x = 1 \\) |\n",
      "\n",
      "---\n",
      "\n",
      "## Summary\n",
      "- **Multilingual Communication**: Essential in today’s global classrooms, allowing for greater inclusivity and understanding among students from different linguistic backgrounds.\n",
      "- **Mathematical Logic**: Critical to understanding the relationships between functions and the conditions under which different mathematical statements hold true.\n",
      "\n",
      "---\n",
      "\n",
      "## Conclusion\n",
      "This lecture exemplifies not only the necessity for multilingual skills in education but also illustrates how mathematical principles can be integrated into discussions on language and comprehension. Understanding these concepts encourages critical thinking and enhances overall academic experience."
     ]
    }
   ],
   "source": [
    "stream = client.chat.completions.create(\n",
    "    model=\"gpt-4o-mini\",\n",
    "    messages=[{\"role\": \"user\", \"content\": prompt}],\n",
    "    stream=True,\n",
    ")\n",
    "for chunk in stream:\n",
    "    if chunk.choices[0].delta.content is not None:\n",
    "        print(chunk.choices[0].delta.content, end=\"\")"
   ]
  },
  {
   "cell_type": "code",
   "execution_count": null,
   "metadata": {},
   "outputs": [],
   "source": []
  }
 ],
 "metadata": {
  "kernelspec": {
   "display_name": "notes",
   "language": "python",
   "name": "python3"
  },
  "language_info": {
   "codemirror_mode": {
    "name": "ipython",
    "version": 3
   },
   "file_extension": ".py",
   "mimetype": "text/x-python",
   "name": "python",
   "nbconvert_exporter": "python",
   "pygments_lexer": "ipython3",
   "version": "3.11.0"
  }
 },
 "nbformat": 4,
 "nbformat_minor": 2
}
