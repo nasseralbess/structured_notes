{
 "cells": [
  {
   "cell_type": "code",
   "execution_count": 2,
   "metadata": {},
   "outputs": [],
   "source": [
    "import openai\n",
    "from openai import OpenAI\n",
    "from dotenv import load_dotenv\n",
    "import os\n",
    "load_dotenv()\n",
    "openai.api_key = os.getenv(\"OPENAI_API_KEY\")\n",
    "client = openai.OpenAI()\n",
    "\n"
   ]
  },
  {
   "cell_type": "code",
   "execution_count": 6,
   "metadata": {},
   "outputs": [],
   "source": [
    "client = OpenAI()\n",
    "\n",
    "audio_file= open(\"slave.mp3\", \"rb\")\n",
    "transcription = client.audio.transcriptions.create(\n",
    "  model=\"whisper-1\", \n",
    "  file=audio_file,\n",
    "  language=\"en\"\n",
    ")\n",
    "\n"
   ]
  },
  {
   "cell_type": "code",
   "execution_count": 12,
   "metadata": {},
   "outputs": [
    {
     "data": {
      "text/plain": [
       "\"Okay, let's test this. Can you understand both English and Arabic, or do you only understand one language? Because usually in lectures there is more than one language. So I need you to understand both. For example, let's say I'm giving you a math lecture, and I'm saying sin x does not equal cos x because obviously when x is squared, x is not cubed. It doesn't have to make any sense, just do it.\""
      ]
     },
     "execution_count": 12,
     "metadata": {},
     "output_type": "execute_result"
    }
   ],
   "source": [
    "transcription.text"
   ]
  },
  {
   "cell_type": "code",
   "execution_count": 13,
   "metadata": {},
   "outputs": [],
   "source": [
    "prompt = f\"\"\"Given the below transcript, You have three tasks:\n",
    "1. Identify what the transcript is from (a lecture, an educational video, a conversation, etc.)\n",
    "2. Figure out the key points and concepts discussed in the transcript while considering what the transcript is taken from, so the insights from a conversation will be different from those of a lecture.\n",
    "3. write thorough structured notes that incorporate every important concepts that is mentioned. You can add information from your knowledge to fill the gaps. Provide your output in html, and use all necessary structures like headers, lists, tables, bullet points, equations, etc. \n",
    "Note that your final output should be the formatted notes and only the formatted notes, not a single extra token.\n",
    "Here's the transcript: {transcription}\"\"\""
   ]
  },
  {
   "cell_type": "code",
   "execution_count": 7,
   "metadata": {},
   "outputs": [],
   "source": [
    "def save_chat_to_markdown(client, prompt, file_name):\n",
    "    \"\"\"\n",
    "    Generates a chat completion from the provided prompt and saves the output to a Markdown file.\n",
    "    \n",
    "    Parameters:\n",
    "    client (openai.api_client.ApiClient): OpenAI API client\n",
    "    prompt (str): The prompt to use for the chat completion\n",
    "    file_name (str): The name of the Markdown file to create\n",
    "    \"\"\"\n",
    "    stream = client.chat.completions.create(\n",
    "        model=\"gpt-4o-mini\",\n",
    "        messages=[{\"role\": \"user\", \"content\": prompt}],\n",
    "        stream=True,\n",
    "    )\n",
    "    \n",
    "    with open(file_name, \"w\") as f:\n",
    "        for chunk in stream:\n",
    "            if chunk.choices[0].delta.content is not None:\n",
    "                f.write(chunk.choices[0].delta.content)\n",
    "    \n",
    "    print(f\"Chat completion saved to '{file_name}'.\")"
   ]
  },
  {
   "cell_type": "code",
   "execution_count": 14,
   "metadata": {},
   "outputs": [],
   "source": [
    "text = client.chat.completions.create(\n",
    "    model=\"gpt-4o-mini\",\n",
    "    messages=[{\"role\": \"user\", \"content\": prompt}]\n",
    "    )\n"
   ]
  },
  {
   "cell_type": "code",
   "execution_count": 15,
   "metadata": {},
   "outputs": [],
   "source": [
    "with open(\"output.html\", \"w\") as f:\n",
    "    f.write(text.choices[0].message.content)\n"
   ]
  },
  {
   "cell_type": "code",
   "execution_count": null,
   "metadata": {},
   "outputs": [],
   "source": []
  }
 ],
 "metadata": {
  "kernelspec": {
   "display_name": "notes",
   "language": "python",
   "name": "python3"
  },
  "language_info": {
   "codemirror_mode": {
    "name": "ipython",
    "version": 3
   },
   "file_extension": ".py",
   "mimetype": "text/x-python",
   "name": "python",
   "nbconvert_exporter": "python",
   "pygments_lexer": "ipython3",
   "version": "3.11.0"
  }
 },
 "nbformat": 4,
 "nbformat_minor": 2
}
